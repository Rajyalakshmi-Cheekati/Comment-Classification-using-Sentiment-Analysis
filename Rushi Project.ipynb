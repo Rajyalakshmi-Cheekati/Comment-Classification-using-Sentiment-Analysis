{
 "cells": [
  {
   "cell_type": "markdown",
   "id": "97d17f41",
   "metadata": {},
   "source": [
    "<h2>Importing Necessary Packages"
   ]
  },
  {
   "cell_type": "code",
   "execution_count": 150,
   "id": "91d6b8e1",
   "metadata": {},
   "outputs": [],
   "source": [
    "import numpy as np\n",
    "import pandas as pd\n",
    "import matplotlib.pyplot as plt\n",
    "\n",
    "from selenium import webdriver\n",
    "from webdriver_manager.chrome import ChromeDriverManager\n",
    "from bs4 import BeautifulSoup\n",
    "import time\n",
    "import pandas as pd\n",
    "from selenium.webdriver.chrome.service import service"
   ]
  },
  {
   "cell_type": "markdown",
   "id": "28b6b8b5",
   "metadata": {},
   "source": [
    "<h3>Comments Extraction"
   ]
  },
  {
   "cell_type": "code",
   "execution_count": 18,
   "id": "91879c16",
   "metadata": {},
   "outputs": [
    {
     "name": "stderr",
     "output_type": "stream",
     "text": [
      "C:\\Users\\user\\AppData\\Local\\Temp\\ipykernel_15032\\477360078.py:12: DeprecationWarning: executable_path has been deprecated, please pass in a Service object\n",
      "  driver = webdriver.Chrome(executable_path=ChromeDriverManager().install(), options=option)\n"
     ]
    },
    {
     "name": "stdout",
     "output_type": "stream",
     "text": [
      "What is black money? How does it circulate? | Ft. Andre Borges | Nutshell [\"What other finance-related videos should we make? What'd you like us to break down next?\", 'Great way of making new generation understand history with stories and facts .\\nAmazing work ', \"This is something amazing I've saw on YouTube these days ... Loved it\", 'Randomly landed on this channel while watching another video related to politics. Very good content sir, I liked it very much.', 'Love this channel. Just amazing ️', 'Yes please! Economics is so much fun but a bit hard to get and you make it a tad bit easier.', 'Thank you so much for providing information to us', 'I am still counfused why this 2 k people will dislike  this masterpiece', 'Chota Packet, Bada Dhamaka ... Real good job you guys ', 'Loved this video and I love topics of finance and accounting or business related. So please make more videos on this topics.️', 'Really informative.. Would like to watch more of this kind..', 'You are  such best channels on YouTube because of unique concept and ideas keep doing this', 'we need such videos!!!!!!', 'Great initiative want more videos like this', 'Very good and clear accent. No too much drama, just to the point.', 'Can you make a video on why and how DEMONETIZATION failed in India??', 'We really like this kind of stuff ', 'Yes you should make more of such finance related videos', 'Can you make a video about how many people pay tax in India and how much of total transactions are in black and most popular cases where people got arrested.', 'The video is really amazing.', 'Nicely explained ', 'Good stuff man', 'Oh buoy ,, you people are literally so underrated. Amazing videos . Thanks for such a factful n useful video.', 'Nice video. Keep it up', \"Hey.. These videos are just amazing... Keep going... I would suggest you to create content that could be of great help to the common man... I mean to say in India people get into major troubles just because they aren't aware of the laws in their favour.... For example  right to information act.. Many doesn't even know.. And even the ones who do, have to  resort to a lawyer by paying huge amounts..\", 'Thanks. Appreciated.. Keep it up..', 'I thought black money is just money not printed by RBI until I watch this video. Thanks man for a great piece of information.', 'Please make some more videos on this types of topics ', \"Yes.. I'm looking forward for more videos\", 'Just because you appreciated government, a lot of people disliked, but nevermind truth should be told, Satymev Jayate', 'Loved it', 'Absolutely a great initiative by Nutshell.', 'Really informative.. Would like to watch more of this kind.. we need financial knowledge...', 'thanks for teaching the secrets', 'Paying tax alone shall not be the criteria for determining black money...A salaried person is buying a flat from his taxed income....since the builder is demanding payment on 60:40 basis, he is paying 40 percent as cash by withdrawing from his bank/ treasury.....how this money can be termed as black money ?', 'love the video ', 'Yeah please continue these financial stuff  kind of reminder how we started with barter system now paying taxes and not paying also black money', 'Hey nutshell I just love ur videos....', 'Why the hell is this video disliked so much????', 'So...black money can never be stopped?', 'Can u make video about Starbucks success as a company', 'We want more of this', '🇮🇳🇮🇳', 'Make video on money laundering', '', 'SIR IAM INTRESTED TO KNOW MORE ABOUT FINANCE.', 'Is cheak considered in black money', 'Indian govt is trying hard ', 'More finances videos', \"Can you talk about how Neerav modi and vijay Mallya committed scams and went to UK and still can't be extradited due to some bullshit laws even adar poonawalla\", 'Jai Mata di', 'Thank you. Great tutorial .', 'Pls speak in slow English, N irav n Malaya surety must repay, good finançial rule everyone must abide for meaning full progress.', 'Hi I want to learn about making money', 'Builds knowledge ', 'Low tax will only control it', 'About Stock market , Cryptocurrency and Investments related terms', 'Raj', 'Good', 'Hey ! Are you CA.\\nIF your not , you are way better than them', 'How hard the economy has been hit by demonetization, introduction of GST and covid? It all happened within a period of 3.5-4 years. And what is the way to recovery?', 'Most black money convert in white by Agriculture income.. because agriculture money is tax free in Income tax and GST also.. second is by way of NGO and other political parties and even education institutions and Press trust. Because these all are tax free. \\nAnd many other way', 'Mr. Black money is not properly defined.', 'Black mony kahaper he niklega bharat ki .sach .modi bahar kar nehi payatha satya guru .bahar karega chyalenj .satya', 'Meanwhile Raj', \"I'm black\", '1', 'Raj ko Raaj rehne doh ', \"That's how big corporations save tax's \", 'Hey my name is raj ', 'ary bhai kuch hindi main bhi btao', 'If the money that is not taxed but earned legally can be a black money. How it would explain that govt the taxing the money is using it for good purpose ?', \"Every year we celebrate Vishu and we get money that day from our loved ones. I don't use it but instead I keep it in a box. After 3 years there would be ₹20000 in the box, and I will not use it. Is this also considered Black?\", 'Kuch nahi samzha ️', 'Hindi me', '2K', 'Ĺ', 'Stop using my name', 'Ķk', 'What is greenpapers', 'Hiiii', 'P', 'নমস্কারকরি', 'Uh', 'Uprwepuor', 'H. .\\n\\n\\n\\n..\\n\\nM. You', 'N ln', 'Hi 0', 'Ll', 'Please help me money problem please', 'Can you make a video about how many people pay tax in India and how much of total transactions are in black and most popular cases where people got arrested.', 'P', 'Can you make a video about how many people pay tax in India and how much of total transactions are in black and most popular cases where people got arrested.']\n"
     ]
    }
   ],
   "source": [
    "def ScrapComment(url):\n",
    "    option = webdriver.ChromeOptions()\n",
    "    option.add_argument(\"--headless\")\n",
    "    driver = webdriver.Chrome(executable_path=ChromeDriverManager().install(), options=option)\n",
    "    driver.get(url)\n",
    "    prev_h = 0\n",
    "    while True:\n",
    "        height = driver.execute_script(\"\"\"\n",
    "                function getActualHeight() {\n",
    "                    return Math.max(\n",
    "                        Math.max(document.body.scrollHeight, document.documentElement.scrollHeight),\n",
    "                        Math.max(document.body.offsetHeight, document.documentElement.offsetHeight),\n",
    "                        Math.max(document.body.clientHeight, document.documentElement.clientHeight)\n",
    "                    );\n",
    "                }\n",
    "                return getActualHeight();\n",
    "            \"\"\")\n",
    "        driver.execute_script(f\"window.scrollTo({prev_h},{prev_h + 200})\")\n",
    "        # fix the time sleep value according to your network connection\n",
    "        time.sleep(1)\n",
    "        prev_h +=200  \n",
    "        if prev_h >= height:\n",
    "            break\n",
    "    soup = BeautifulSoup(driver.page_source, 'html.parser')\n",
    "    driver.quit()\n",
    "    title_text_div = soup.select_one('#container h1')\n",
    "    title = title_text_div and title_text_div.text\n",
    "    comment_div = soup.select(\"#content #content-text\")\n",
    "    comment_list = [x.text for x in comment_div]\n",
    "    print(title, comment_list)\n",
    "    dict = {\"Comments\": comment_list}\n",
    "    df = pd.DataFrame(dict)\n",
    "    df.to_csv('comments1.csv')\n",
    "    \n",
    "\n",
    "\n",
    "if __name__ == \"__main__\":\n",
    "\n",
    "    urls = [\n",
    "        \"https://www.youtube.com/watch?v=lPvXZz7m9sI\",\n",
    "        \"https://www.youtube.com/watch?v=uEawmeO2gOY\",\n",
    "    ]\n",
    "    ScrapComment(urls[1])"
   ]
  },
  {
   "cell_type": "markdown",
   "id": "270b68d7",
   "metadata": {},
   "source": [
    "<h3>Read The Data"
   ]
  },
  {
   "cell_type": "code",
   "execution_count": 19,
   "id": "f5f34f6f",
   "metadata": {},
   "outputs": [
    {
     "data": {
      "text/html": [
       "<div>\n",
       "<style scoped>\n",
       "    .dataframe tbody tr th:only-of-type {\n",
       "        vertical-align: middle;\n",
       "    }\n",
       "\n",
       "    .dataframe tbody tr th {\n",
       "        vertical-align: top;\n",
       "    }\n",
       "\n",
       "    .dataframe thead th {\n",
       "        text-align: right;\n",
       "    }\n",
       "</style>\n",
       "<table border=\"1\" class=\"dataframe\">\n",
       "  <thead>\n",
       "    <tr style=\"text-align: right;\">\n",
       "      <th></th>\n",
       "      <th>Unnamed: 0</th>\n",
       "      <th>Comments</th>\n",
       "    </tr>\n",
       "  </thead>\n",
       "  <tbody>\n",
       "    <tr>\n",
       "      <th>0</th>\n",
       "      <td>0</td>\n",
       "      <td>What other finance-related videos should we ma...</td>\n",
       "    </tr>\n",
       "    <tr>\n",
       "      <th>1</th>\n",
       "      <td>1</td>\n",
       "      <td>Great way of making new generation understand ...</td>\n",
       "    </tr>\n",
       "    <tr>\n",
       "      <th>2</th>\n",
       "      <td>2</td>\n",
       "      <td>This is something amazing I've saw on YouTube ...</td>\n",
       "    </tr>\n",
       "    <tr>\n",
       "      <th>3</th>\n",
       "      <td>3</td>\n",
       "      <td>Randomly landed on this channel while watching...</td>\n",
       "    </tr>\n",
       "    <tr>\n",
       "      <th>4</th>\n",
       "      <td>4</td>\n",
       "      <td>Love this channel. Just amazing ️</td>\n",
       "    </tr>\n",
       "    <tr>\n",
       "      <th>...</th>\n",
       "      <td>...</td>\n",
       "      <td>...</td>\n",
       "    </tr>\n",
       "    <tr>\n",
       "      <th>88</th>\n",
       "      <td>88</td>\n",
       "      <td>Ll</td>\n",
       "    </tr>\n",
       "    <tr>\n",
       "      <th>89</th>\n",
       "      <td>89</td>\n",
       "      <td>Please help me money problem please</td>\n",
       "    </tr>\n",
       "    <tr>\n",
       "      <th>90</th>\n",
       "      <td>90</td>\n",
       "      <td>Can you make a video about how many people pay...</td>\n",
       "    </tr>\n",
       "    <tr>\n",
       "      <th>91</th>\n",
       "      <td>91</td>\n",
       "      <td>P</td>\n",
       "    </tr>\n",
       "    <tr>\n",
       "      <th>92</th>\n",
       "      <td>92</td>\n",
       "      <td>Can you make a video about how many people pay...</td>\n",
       "    </tr>\n",
       "  </tbody>\n",
       "</table>\n",
       "<p>93 rows × 2 columns</p>\n",
       "</div>"
      ],
      "text/plain": [
       "    Unnamed: 0                                           Comments\n",
       "0            0  What other finance-related videos should we ma...\n",
       "1            1  Great way of making new generation understand ...\n",
       "2            2  This is something amazing I've saw on YouTube ...\n",
       "3            3  Randomly landed on this channel while watching...\n",
       "4            4                  Love this channel. Just amazing ️\n",
       "..         ...                                                ...\n",
       "88          88                                                 Ll\n",
       "89          89                Please help me money problem please\n",
       "90          90  Can you make a video about how many people pay...\n",
       "91          91                                                  P\n",
       "92          92  Can you make a video about how many people pay...\n",
       "\n",
       "[93 rows x 2 columns]"
      ]
     },
     "execution_count": 19,
     "metadata": {},
     "output_type": "execute_result"
    }
   ],
   "source": [
    "data=pd.read_csv(\"comments1.csv\")\n",
    "data"
   ]
  },
  {
   "cell_type": "markdown",
   "id": "02bd3c4a",
   "metadata": {},
   "source": [
    "<h3>Data Preprocessing"
   ]
  },
  {
   "cell_type": "code",
   "execution_count": 20,
   "id": "cc067af4",
   "metadata": {},
   "outputs": [
    {
     "data": {
      "text/html": [
       "<div>\n",
       "<style scoped>\n",
       "    .dataframe tbody tr th:only-of-type {\n",
       "        vertical-align: middle;\n",
       "    }\n",
       "\n",
       "    .dataframe tbody tr th {\n",
       "        vertical-align: top;\n",
       "    }\n",
       "\n",
       "    .dataframe thead th {\n",
       "        text-align: right;\n",
       "    }\n",
       "</style>\n",
       "<table border=\"1\" class=\"dataframe\">\n",
       "  <thead>\n",
       "    <tr style=\"text-align: right;\">\n",
       "      <th></th>\n",
       "      <th>Unnamed: 0</th>\n",
       "      <th>Comments</th>\n",
       "    </tr>\n",
       "  </thead>\n",
       "  <tbody>\n",
       "    <tr>\n",
       "      <th>0</th>\n",
       "      <td>0</td>\n",
       "      <td>What other finance-related videos should we ma...</td>\n",
       "    </tr>\n",
       "    <tr>\n",
       "      <th>1</th>\n",
       "      <td>1</td>\n",
       "      <td>Great way of making new generation understand ...</td>\n",
       "    </tr>\n",
       "    <tr>\n",
       "      <th>2</th>\n",
       "      <td>2</td>\n",
       "      <td>This is something amazing I've saw on YouTube ...</td>\n",
       "    </tr>\n",
       "    <tr>\n",
       "      <th>3</th>\n",
       "      <td>3</td>\n",
       "      <td>Randomly landed on this channel while watching...</td>\n",
       "    </tr>\n",
       "    <tr>\n",
       "      <th>4</th>\n",
       "      <td>4</td>\n",
       "      <td>Love this channel. Just amazing ️</td>\n",
       "    </tr>\n",
       "  </tbody>\n",
       "</table>\n",
       "</div>"
      ],
      "text/plain": [
       "   Unnamed: 0                                           Comments\n",
       "0           0  What other finance-related videos should we ma...\n",
       "1           1  Great way of making new generation understand ...\n",
       "2           2  This is something amazing I've saw on YouTube ...\n",
       "3           3  Randomly landed on this channel while watching...\n",
       "4           4                  Love this channel. Just amazing ️"
      ]
     },
     "execution_count": 20,
     "metadata": {},
     "output_type": "execute_result"
    }
   ],
   "source": [
    "data.head()"
   ]
  },
  {
   "cell_type": "code",
   "execution_count": 21,
   "id": "e671f030",
   "metadata": {},
   "outputs": [
    {
     "data": {
      "text/html": [
       "<div>\n",
       "<style scoped>\n",
       "    .dataframe tbody tr th:only-of-type {\n",
       "        vertical-align: middle;\n",
       "    }\n",
       "\n",
       "    .dataframe tbody tr th {\n",
       "        vertical-align: top;\n",
       "    }\n",
       "\n",
       "    .dataframe thead th {\n",
       "        text-align: right;\n",
       "    }\n",
       "</style>\n",
       "<table border=\"1\" class=\"dataframe\">\n",
       "  <thead>\n",
       "    <tr style=\"text-align: right;\">\n",
       "      <th></th>\n",
       "      <th>Unnamed: 0</th>\n",
       "      <th>Comments</th>\n",
       "    </tr>\n",
       "  </thead>\n",
       "  <tbody>\n",
       "    <tr>\n",
       "      <th>88</th>\n",
       "      <td>88</td>\n",
       "      <td>Ll</td>\n",
       "    </tr>\n",
       "    <tr>\n",
       "      <th>89</th>\n",
       "      <td>89</td>\n",
       "      <td>Please help me money problem please</td>\n",
       "    </tr>\n",
       "    <tr>\n",
       "      <th>90</th>\n",
       "      <td>90</td>\n",
       "      <td>Can you make a video about how many people pay...</td>\n",
       "    </tr>\n",
       "    <tr>\n",
       "      <th>91</th>\n",
       "      <td>91</td>\n",
       "      <td>P</td>\n",
       "    </tr>\n",
       "    <tr>\n",
       "      <th>92</th>\n",
       "      <td>92</td>\n",
       "      <td>Can you make a video about how many people pay...</td>\n",
       "    </tr>\n",
       "  </tbody>\n",
       "</table>\n",
       "</div>"
      ],
      "text/plain": [
       "    Unnamed: 0                                           Comments\n",
       "88          88                                                 Ll\n",
       "89          89                Please help me money problem please\n",
       "90          90  Can you make a video about how many people pay...\n",
       "91          91                                                  P\n",
       "92          92  Can you make a video about how many people pay..."
      ]
     },
     "execution_count": 21,
     "metadata": {},
     "output_type": "execute_result"
    }
   ],
   "source": [
    "data.tail()"
   ]
  },
  {
   "cell_type": "code",
   "execution_count": 22,
   "id": "5917e51e",
   "metadata": {},
   "outputs": [
    {
     "name": "stdout",
     "output_type": "stream",
     "text": [
      "<class 'pandas.core.frame.DataFrame'>\n",
      "RangeIndex: 93 entries, 0 to 92\n",
      "Data columns (total 2 columns):\n",
      " #   Column      Non-Null Count  Dtype \n",
      "---  ------      --------------  ----- \n",
      " 0   Unnamed: 0  93 non-null     int64 \n",
      " 1   Comments    92 non-null     object\n",
      "dtypes: int64(1), object(1)\n",
      "memory usage: 1.6+ KB\n"
     ]
    }
   ],
   "source": [
    "data.info()"
   ]
  },
  {
   "cell_type": "code",
   "execution_count": 44,
   "id": "e2cb8db8",
   "metadata": {},
   "outputs": [
    {
     "data": {
      "text/plain": [
       "(93, 2)"
      ]
     },
     "execution_count": 44,
     "metadata": {},
     "output_type": "execute_result"
    }
   ],
   "source": [
    "data.shape"
   ]
  },
  {
   "cell_type": "code",
   "execution_count": 45,
   "id": "ab3d1e4b",
   "metadata": {},
   "outputs": [
    {
     "data": {
      "text/plain": [
       "count                                                    93\n",
       "unique                                                   90\n",
       "top       Can you make a video about how many people pay...\n",
       "freq                                                      3\n",
       "Name: Comments, dtype: object"
      ]
     },
     "execution_count": 45,
     "metadata": {},
     "output_type": "execute_result"
    }
   ],
   "source": [
    "data[\"Comments\"].describe()"
   ]
  },
  {
   "cell_type": "markdown",
   "id": "ecde4c56",
   "metadata": {},
   "source": [
    "<h3>Read Preprocessed Data"
   ]
  },
  {
   "cell_type": "code",
   "execution_count": 131,
   "id": "d17599dc",
   "metadata": {},
   "outputs": [],
   "source": [
    "x_data = data[\"Comments\"]\n",
    "y_data1 = x_data.copy()"
   ]
  },
  {
   "cell_type": "code",
   "execution_count": 132,
   "id": "98754c50",
   "metadata": {},
   "outputs": [
    {
     "data": {
      "text/plain": [
       "0     What other finance-related videos should we ma...\n",
       "1     Great way of making new generation understand ...\n",
       "2     This is something amazing I've saw on YouTube ...\n",
       "3     Randomly landed on this channel while watching...\n",
       "4                     Love this channel. Just amazing ️\n",
       "                            ...                        \n",
       "88                                                   Ll\n",
       "89                  Please help me money problem please\n",
       "90    Can you make a video about how many people pay...\n",
       "91                                                    P\n",
       "92    Can you make a video about how many people pay...\n",
       "Name: Comments, Length: 93, dtype: object"
      ]
     },
     "execution_count": 132,
     "metadata": {},
     "output_type": "execute_result"
    }
   ],
   "source": [
    "x_data"
   ]
  },
  {
   "cell_type": "markdown",
   "id": "b2a4de8b",
   "metadata": {},
   "source": [
    "## GPT-2"
   ]
  },
  {
   "cell_type": "code",
   "execution_count": 133,
   "id": "d2083fba",
   "metadata": {
    "scrolled": false
   },
   "outputs": [],
   "source": [
    "import torch\n",
    "from transformers import GPT2LMHeadModel, GPT2Tokenizer\n",
    "\n",
    "# initialize tokenizer and model from pretrained GPT2 model\n",
    "tokenizer = GPT2Tokenizer.from_pretrained('gpt2')\n",
    "model = GPT2LMHeadModel.from_pretrained('gpt2')"
   ]
  },
  {
   "cell_type": "code",
   "execution_count": 134,
   "id": "c8e33c9c",
   "metadata": {},
   "outputs": [],
   "source": [
    "data['Comments'] = data['Comments'].astype(str)"
   ]
  },
  {
   "cell_type": "code",
   "execution_count": 135,
   "id": "b86c301f",
   "metadata": {},
   "outputs": [],
   "source": [
    "token_val = [str(i) for i in data['Comments'].values]"
   ]
  },
  {
   "cell_type": "code",
   "execution_count": 136,
   "id": "4e59dc24",
   "metadata": {},
   "outputs": [
    {
     "data": {
      "text/plain": [
       "{'input_ids': [[2061, 584, 9604, 12, 5363, 5861, 815, 356, 787, 30, 1867, 1549, 345, 588, 514, 284, 2270, 866, 1306, 30], [13681, 835, 286, 1642, 649, 5270, 1833, 2106, 351, 3923, 290, 6419, 764, 198, 42770, 670, 220], [1212, 318, 1223, 4998, 314, 1053, 2497, 319, 7444, 777, 1528, 2644, 406, 2668, 340], [29531, 306, 11406, 319, 428, 6518, 981, 4964, 1194, 2008, 3519, 284, 4819, 13, 9576, 922, 2695, 15967, 11, 314, 8288, 340, 845, 881, 13], [18565, 428, 6518, 13, 2329, 4998, 27332, 116, 237], [5297, 3387, 0, 18963, 318, 523, 881, 1257, 475, 257, 1643, 1327, 284, 651, 290, 345, 787, 340, 257, 36264, 1643, 4577, 13], [10449, 345, 523, 881, 329, 4955, 1321, 284, 514], [40, 716, 991, 2289, 69, 1484, 1521, 428, 362, 479, 661, 481, 23109, 220, 428, 30669], [1925, 4265, 6400, 316, 11, 347, 4763, 360, 2763, 8130, 2644, 6416, 922, 1693, 345, 3730, 220], [43, 2668, 428, 2008, 290, 314, 1842, 10233, 286, 9604, 290, 14317, 393, 1597, 3519, 13, 1406, 3387, 787, 517, 5861, 319, 428, 10233, 13, 37929], [26392, 30304, 492, 10928, 588, 284, 2342, 517, 286, 428, 1611, 492], [1639, 389, 220, 884, 1266, 9619, 319, 7444, 780, 286, 3748, 3721, 290, 4213, 1394, 1804, 428], [732, 761, 884, 5861, 13896, 3228], [13681, 10219, 765, 517, 5861, 588, 428], [16371, 922, 290, 1598, 18702, 13, 1400, 1165, 881, 10512, 11, 655, 284, 262, 966, 13], [6090, 345, 787, 257, 2008, 319, 1521, 290, 703, 40101, 1340, 2767, 14887, 6234, 4054, 287, 3794, 3548], [1135, 1107, 588, 428, 1611, 286, 3404, 220], [5297, 345, 815, 787, 517, 286, 884, 9604, 3519, 5861], [6090, 345, 787, 257, 2008, 546, 703, 867, 661, 1414, 1687, 287, 3794, 290, 703, 881, 286, 2472, 8945, 389, 287, 2042, 290, 749, 2968, 2663, 810, 661, 1392, 5169, 13], [464, 2008, 318, 1107, 4998, 13], [35284, 306, 4893, 220], [10248, 3404, 582], [5812, 36675, 837, 11, 345, 661, 389, 7360, 523, 42308, 13, 23181, 5861, 764, 6930, 329, 884, 257, 1109, 913, 299, 4465, 2008, 13], [35284, 2008, 13, 9175, 340, 510], [10814, 492, 2312, 5861, 389, 655, 4998, 986, 9175, 1016, 986, 314, 561, 1950, 345, 284, 2251, 2695, 326, 714, 307, 286, 1049, 1037, 284, 262, 2219, 582, 986, 314, 1612, 284, 910, 287, 3794, 661, 651, 656, 1688, 14979, 655, 780, 484, 3588, 470, 3910, 286, 262, 3657, 287, 511, 7075, 1106, 1114, 1672, 220, 826, 284, 1321, 719, 492, 4650, 1595, 470, 772, 760, 492, 843, 772, 262, 3392, 508, 466, 11, 423, 284, 220, 12600, 284, 257, 6853, 416, 5989, 3236, 6867, 492], [9690, 13, 2034, 29102, 515, 492, 9175, 340, 510, 492], [40, 1807, 2042, 1637, 318, 655, 1637, 407, 10398, 416, 20948, 1566, 314, 2342, 428, 2008, 13, 6930, 582, 329, 257, 1049, 3704, 286, 1321, 13], [5492, 787, 617, 517, 5861, 319, 428, 3858, 286, 10233, 220], [5297, 492, 314, 1101, 2045, 2651, 329, 517, 5861], [5703, 780, 345, 16373, 1230, 11, 257, 1256, 286, 661, 43252, 11, 475, 1239, 10155, 3872, 815, 307, 1297, 11, 7031, 88, 1326, 85, 9180, 378], [43, 2668, 340], [40501, 257, 1049, 10219, 416, 399, 5500, 12758, 13], [26392, 30304, 492, 10928, 588, 284, 2342, 517, 286, 428, 1611, 492, 356, 761, 3176, 3725, 986], [27547, 329, 7743, 262, 13141], [47, 8369, 1687, 3436, 2236, 407, 307, 262, 9987, 329, 13213, 2042, 1637, 986, 32, 3664, 283, 798, 1048, 318, 7067, 257, 6228, 422, 465, 31075, 3739, 1106, 20777, 262, 27098, 318, 11334, 6074, 319, 3126, 25, 1821, 4308, 11, 339, 318, 5989, 2319, 1411, 355, 5003, 416, 36395, 422, 465, 3331, 14, 38115, 12359, 4919, 428, 1637, 460, 307, 28569, 355, 2042, 1637, 5633], [23205, 262, 2008, 220], [10995, 3387, 2555, 777, 3176, 3404, 220, 1611, 286, 15438, 703, 356, 2067, 351, 2318, 353, 1080, 783, 5989, 5704, 290, 407, 5989, 635, 2042, 1637], [10814, 43875, 314, 655, 1842, 2956, 5861, 1106], [5195, 262, 5968, 318, 428, 2008, 43252, 523, 881, 9805], [2396, 986, 13424, 1637, 460, 1239, 307, 5025, 30], [6090, 334, 787, 2008, 546, 24527, 1943, 355, 257, 1664], [1135, 765, 517, 286, 428], [8582, 229, 106, 8582, 229, 111, 8582, 229, 106, 8582, 229, 111], [12050, 2008, 319, 1637, 27194], [12647], [50, 4663, 314, 2390, 3268, 5446, 6465, 1961, 5390, 35876, 12011, 33478, 33642, 19240, 13], [3792, 1125, 461, 3177, 287, 2042, 1637], [30821, 467, 36540, 318, 2111, 1327, 220], [5167, 20903, 5861], [6090, 345, 1561, 546, 703, 3169, 263, 615, 953, 72, 290, 410, 2926, 323, 337, 453, 64, 5364, 41718, 290, 1816, 284, 3482, 290, 991, 460, 470, 307, 25963, 863, 2233, 284, 617, 20041, 3657, 772, 512, 283, 745, 261, 707, 30315], [41, 1872, 45332, 2566], [10449, 345, 13, 3878, 11808, 764], [3646, 82, 2740, 287, 3105, 3594, 11, 399, 4173, 615, 299, 4434, 11729, 1654, 774, 1276, 20152, 11, 922, 17240, 16175, 498, 3896, 2506, 1276, 27851, 329, 3616, 1336, 4371, 13], [17250, 314, 765, 284, 2193, 546, 1642, 1637], [15580, 82, 3725, 220], [20535, 1687, 481, 691, 1630, 340], [8585, 10500, 1910, 837, 15126, 420, 13382, 290, 46568, 3519, 2846], [49, 1228], [10248], [10814, 5145, 4231, 345, 7257, 13, 198, 5064, 534, 407, 837, 345, 389, 835, 1365, 621, 606], [2437, 1327, 262, 3773, 468, 587, 2277, 416, 3222, 316, 1634, 11, 9793, 286, 31802, 290, 39849, 312, 30, 632, 477, 3022, 1626, 257, 2278, 286, 513, 13, 20, 12, 19, 812, 13, 843, 644, 318, 262, 835, 284, 7628, 30], [6943, 2042, 1637, 10385, 287, 2330, 416, 19717, 3739, 492, 780, 14510, 1637, 318, 1687, 1479, 287, 19003, 1687, 290, 31802, 635, 492, 1218, 318, 416, 835, 286, 22142, 290, 584, 1964, 4671, 290, 772, 3707, 6712, 290, 4332, 3774, 13, 4362, 777, 477, 389, 1687, 1479, 13, 220, 198, 1870, 867, 584, 835], [5246, 13, 2619, 1637, 318, 407, 6105, 5447, 13], [9915, 937, 88, 479, 993, 2136, 339, 299, 1134, 1455, 64, 275, 9869, 265, 47748, 764, 82, 620, 764, 4666, 72, 275, 37325, 479, 283, 497, 5303, 1414, 30921, 3332, 3972, 35730, 764, 65, 37325, 479, 533, 4908, 442, 88, 282, 268, 73, 764, 49720, 3972], [10294, 13308], [40, 1101, 2042], [16], [49, 1228, 41727, 7567, 1228, 302, 71, 710, 466, 71, 220], [2504, 338, 703, 1263, 10225, 3613, 1687, 338, 220], [10814, 616, 1438, 318, 374, 1228, 220], [560, 275, 44488, 479, 794, 16222, 72, 1388, 275, 5303, 275, 83, 5488], [1532, 262, 1637, 326, 318, 407, 31075, 475, 7366, 11119, 460, 307, 257, 2042, 1637, 13, 1374, 340, 561, 4727, 326, 467, 36540, 262, 36587, 262, 1637, 318, 1262, 340, 329, 922, 4007, 5633], [6109, 614, 356, 10648, 36900, 84, 290, 356, 651, 1637, 326, 1110, 422, 674, 6151, 3392, 13, 314, 836, 470, 779, 340, 475, 2427, 314, 1394, 340, 287, 257, 3091, 13, 2293, 513, 812, 612, 561, 307, 2343, 224, 117, 2167, 405, 287, 262, 3091, 11, 290, 314, 481, 407, 779, 340, 13, 1148, 428, 635, 3177, 2619, 30], [42, 794, 299, 32810, 6072, 89, 3099, 27332, 116, 237], [39, 521, 72, 502], [17, 42], [128, 117], [19485, 1262, 616, 1438], [128, 114, 74], [2061, 318, 4077, 40491], [39, 4178, 4178], [47], [48071, 101, 48071, 106, 48071, 116, 156, 100, 235, 48071, 243, 48071, 122, 48071, 108, 48071, 243, 48071, 108, 48071, 123], [34653], [52, 1050, 86, 538, 84, 273], [39, 13, 764, 628, 198, 198, 492, 198, 198, 44, 13, 921], [45, 300, 77], [17250, 657], [43, 75], [5492, 1037, 502, 1637, 1917, 3387], [6090, 345, 787, 257, 2008, 546, 703, 867, 661, 1414, 1687, 287, 3794, 290, 703, 881, 286, 2472, 8945, 389, 287, 2042, 290, 749, 2968, 2663, 810, 661, 1392, 5169, 13], [47], [6090, 345, 787, 257, 2008, 546, 703, 867, 661, 1414, 1687, 287, 3794, 290, 703, 881, 286, 2472, 8945, 389, 287, 2042, 290, 749, 2968, 2663, 810, 661, 1392, 5169, 13]], 'attention_mask': [[1, 1, 1, 1, 1, 1, 1, 1, 1, 1, 1, 1, 1, 1, 1, 1, 1, 1, 1, 1], [1, 1, 1, 1, 1, 1, 1, 1, 1, 1, 1, 1, 1, 1, 1, 1, 1], [1, 1, 1, 1, 1, 1, 1, 1, 1, 1, 1, 1, 1, 1, 1], [1, 1, 1, 1, 1, 1, 1, 1, 1, 1, 1, 1, 1, 1, 1, 1, 1, 1, 1, 1, 1, 1, 1, 1, 1], [1, 1, 1, 1, 1, 1, 1, 1, 1], [1, 1, 1, 1, 1, 1, 1, 1, 1, 1, 1, 1, 1, 1, 1, 1, 1, 1, 1, 1, 1, 1, 1], [1, 1, 1, 1, 1, 1, 1, 1, 1], [1, 1, 1, 1, 1, 1, 1, 1, 1, 1, 1, 1, 1, 1, 1, 1], [1, 1, 1, 1, 1, 1, 1, 1, 1, 1, 1, 1, 1, 1, 1, 1, 1], [1, 1, 1, 1, 1, 1, 1, 1, 1, 1, 1, 1, 1, 1, 1, 1, 1, 1, 1, 1, 1, 1, 1, 1, 1, 1], [1, 1, 1, 1, 1, 1, 1, 1, 1, 1, 1, 1], [1, 1, 1, 1, 1, 1, 1, 1, 1, 1, 1, 1, 1, 1, 1, 1, 1], [1, 1, 1, 1, 1, 1], [1, 1, 1, 1, 1, 1, 1], [1, 1, 1, 1, 1, 1, 1, 1, 1, 1, 1, 1, 1, 1, 1, 1], [1, 1, 1, 1, 1, 1, 1, 1, 1, 1, 1, 1, 1, 1, 1, 1, 1, 1], [1, 1, 1, 1, 1, 1, 1, 1], [1, 1, 1, 1, 1, 1, 1, 1, 1, 1], [1, 1, 1, 1, 1, 1, 1, 1, 1, 1, 1, 1, 1, 1, 1, 1, 1, 1, 1, 1, 1, 1, 1, 1, 1, 1, 1, 1, 1, 1, 1], [1, 1, 1, 1, 1, 1], [1, 1, 1, 1], [1, 1, 1], [1, 1, 1, 1, 1, 1, 1, 1, 1, 1, 1, 1, 1, 1, 1, 1, 1, 1, 1, 1, 1, 1, 1, 1], [1, 1, 1, 1, 1, 1], [1, 1, 1, 1, 1, 1, 1, 1, 1, 1, 1, 1, 1, 1, 1, 1, 1, 1, 1, 1, 1, 1, 1, 1, 1, 1, 1, 1, 1, 1, 1, 1, 1, 1, 1, 1, 1, 1, 1, 1, 1, 1, 1, 1, 1, 1, 1, 1, 1, 1, 1, 1, 1, 1, 1, 1, 1, 1, 1, 1, 1, 1, 1, 1, 1, 1, 1, 1, 1, 1, 1, 1, 1, 1, 1, 1, 1, 1, 1, 1, 1, 1, 1, 1, 1, 1], [1, 1, 1, 1, 1, 1, 1, 1, 1, 1], [1, 1, 1, 1, 1, 1, 1, 1, 1, 1, 1, 1, 1, 1, 1, 1, 1, 1, 1, 1, 1, 1, 1, 1, 1, 1], [1, 1, 1, 1, 1, 1, 1, 1, 1, 1, 1], [1, 1, 1, 1, 1, 1, 1, 1, 1], [1, 1, 1, 1, 1, 1, 1, 1, 1, 1, 1, 1, 1, 1, 1, 1, 1, 1, 1, 1, 1, 1, 1, 1, 1, 1], [1, 1, 1], [1, 1, 1, 1, 1, 1, 1, 1, 1], [1, 1, 1, 1, 1, 1, 1, 1, 1, 1, 1, 1, 1, 1, 1, 1, 1], [1, 1, 1, 1, 1], [1, 1, 1, 1, 1, 1, 1, 1, 1, 1, 1, 1, 1, 1, 1, 1, 1, 1, 1, 1, 1, 1, 1, 1, 1, 1, 1, 1, 1, 1, 1, 1, 1, 1, 1, 1, 1, 1, 1, 1, 1, 1, 1, 1, 1, 1, 1, 1, 1, 1, 1, 1, 1, 1, 1, 1, 1, 1, 1, 1, 1, 1, 1, 1, 1], [1, 1, 1, 1], [1, 1, 1, 1, 1, 1, 1, 1, 1, 1, 1, 1, 1, 1, 1, 1, 1, 1, 1, 1, 1, 1, 1, 1, 1, 1], [1, 1, 1, 1, 1, 1, 1, 1], [1, 1, 1, 1, 1, 1, 1, 1, 1, 1], [1, 1, 1, 1, 1, 1, 1, 1, 1], [1, 1, 1, 1, 1, 1, 1, 1, 1, 1], [1, 1, 1, 1, 1], [1, 1, 1, 1, 1, 1, 1, 1, 1, 1, 1, 1], [1, 1, 1, 1, 1], [1], [1, 1, 1, 1, 1, 1, 1, 1, 1, 1, 1, 1, 1, 1, 1], [1, 1, 1, 1, 1, 1, 1], [1, 1, 1, 1, 1, 1, 1], [1, 1, 1], [1, 1, 1, 1, 1, 1, 1, 1, 1, 1, 1, 1, 1, 1, 1, 1, 1, 1, 1, 1, 1, 1, 1, 1, 1, 1, 1, 1, 1, 1, 1, 1, 1, 1, 1, 1, 1, 1, 1, 1, 1, 1], [1, 1, 1, 1], [1, 1, 1, 1, 1, 1], [1, 1, 1, 1, 1, 1, 1, 1, 1, 1, 1, 1, 1, 1, 1, 1, 1, 1, 1, 1, 1, 1, 1, 1, 1, 1, 1, 1, 1, 1, 1], [1, 1, 1, 1, 1, 1, 1, 1], [1, 1, 1, 1], [1, 1, 1, 1, 1, 1], [1, 1, 1, 1, 1, 1, 1, 1, 1, 1, 1], [1, 1], [1], [1, 1, 1, 1, 1, 1, 1, 1, 1, 1, 1, 1, 1, 1, 1, 1, 1], [1, 1, 1, 1, 1, 1, 1, 1, 1, 1, 1, 1, 1, 1, 1, 1, 1, 1, 1, 1, 1, 1, 1, 1, 1, 1, 1, 1, 1, 1, 1, 1, 1, 1, 1, 1, 1, 1, 1, 1, 1], [1, 1, 1, 1, 1, 1, 1, 1, 1, 1, 1, 1, 1, 1, 1, 1, 1, 1, 1, 1, 1, 1, 1, 1, 1, 1, 1, 1, 1, 1, 1, 1, 1, 1, 1, 1, 1, 1, 1, 1, 1, 1, 1, 1, 1, 1, 1, 1, 1, 1, 1, 1, 1, 1], [1, 1, 1, 1, 1, 1, 1, 1, 1], [1, 1, 1, 1, 1, 1, 1, 1, 1, 1, 1, 1, 1, 1, 1, 1, 1, 1, 1, 1, 1, 1, 1, 1, 1, 1, 1, 1, 1, 1, 1, 1, 1, 1, 1, 1, 1, 1, 1, 1, 1, 1, 1, 1, 1, 1], [1, 1], [1, 1, 1], [1], [1, 1, 1, 1, 1, 1, 1, 1, 1, 1, 1], [1, 1, 1, 1, 1, 1, 1, 1, 1], [1, 1, 1, 1, 1, 1, 1], [1, 1, 1, 1, 1, 1, 1, 1, 1, 1, 1, 1, 1], [1, 1, 1, 1, 1, 1, 1, 1, 1, 1, 1, 1, 1, 1, 1, 1, 1, 1, 1, 1, 1, 1, 1, 1, 1, 1, 1, 1, 1, 1, 1, 1, 1, 1], [1, 1, 1, 1, 1, 1, 1, 1, 1, 1, 1, 1, 1, 1, 1, 1, 1, 1, 1, 1, 1, 1, 1, 1, 1, 1, 1, 1, 1, 1, 1, 1, 1, 1, 1, 1, 1, 1, 1, 1, 1, 1, 1, 1, 1, 1, 1, 1, 1, 1, 1, 1, 1, 1, 1, 1, 1, 1, 1], [1, 1, 1, 1, 1, 1, 1, 1, 1, 1], [1, 1, 1, 1], [1, 1], [1, 1], [1, 1, 1, 1], [1, 1, 1], [1, 1, 1, 1], [1, 1, 1], [1], [1, 1, 1, 1, 1, 1, 1, 1, 1, 1, 1, 1, 1, 1, 1, 1, 1, 1, 1, 1, 1], [1], [1, 1, 1, 1, 1, 1], [1, 1, 1, 1, 1, 1, 1, 1, 1, 1, 1, 1], [1, 1, 1], [1, 1], [1, 1], [1, 1, 1, 1, 1, 1], [1, 1, 1, 1, 1, 1, 1, 1, 1, 1, 1, 1, 1, 1, 1, 1, 1, 1, 1, 1, 1, 1, 1, 1, 1, 1, 1, 1, 1, 1, 1], [1], [1, 1, 1, 1, 1, 1, 1, 1, 1, 1, 1, 1, 1, 1, 1, 1, 1, 1, 1, 1, 1, 1, 1, 1, 1, 1, 1, 1, 1, 1, 1]]}"
      ]
     },
     "execution_count": 136,
     "metadata": {},
     "output_type": "execute_result"
    }
   ],
   "source": [
    "tokenizer(token_val)"
   ]
  },
  {
   "cell_type": "code",
   "execution_count": 137,
   "id": "55b303df",
   "metadata": {},
   "outputs": [],
   "source": [
    "inputs = tokenizer.encode(token_val, return_tensors='pt')"
   ]
  },
  {
   "cell_type": "code",
   "execution_count": 138,
   "id": "d40e18e8",
   "metadata": {},
   "outputs": [
    {
     "name": "stderr",
     "output_type": "stream",
     "text": [
      "The attention mask and the pad token id were not set. As a consequence, you may observe unexpected behavior. Please pass your input's `attention_mask` to obtain reliable results.\n",
      "Setting `pad_token_id` to `eos_token_id`:50256 for open-end generation.\n",
      "A decoder-only architecture is being used, but right-padding was detected! For correct generation results, please set `padding_side='left'` when initializing the tokenizer.\n"
     ]
    }
   ],
   "source": [
    "outputs = model.generate(inputs, max_length=200, do_sample=True)"
   ]
  },
  {
   "cell_type": "code",
   "execution_count": 139,
   "id": "6f8ae735",
   "metadata": {},
   "outputs": [],
   "source": [
    "X= tokenizer.decode(outputs[0], skip_special_tokens=True)"
   ]
  },
  {
   "cell_type": "code",
   "execution_count": 140,
   "id": "0b501d17",
   "metadata": {},
   "outputs": [],
   "source": [
    "token_val1 = [str(i) for i in y_data1.values]\n",
    "y_data=tokenizer(token_val1)"
   ]
  },
  {
   "cell_type": "code",
   "execution_count": 145,
   "id": "83fdfc35",
   "metadata": {},
   "outputs": [
    {
     "name": "stderr",
     "output_type": "stream",
     "text": [
      "The attention mask and the pad token id were not set. As a consequence, you may observe unexpected behavior. Please pass your input's `attention_mask` to obtain reliable results.\n",
      "Setting `pad_token_id` to `eos_token_id`:50256 for open-end generation.\n",
      "A decoder-only architecture is being used, but right-padding was detected! For correct generation results, please set `padding_side='left'` when initializing the tokenizer.\n"
     ]
    }
   ],
   "source": [
    "inputs1 = tokenizer.encode(token_val1, return_tensors='pt')\n",
    "outputs1 = model.generate(inputs1, max_length=200, do_sample=True)\n",
    "Y= tokenizer.decode(outputs[0], skip_special_tokens=True)"
   ]
  },
  {
   "cell_type": "markdown",
   "id": "64a12ab7",
   "metadata": {},
   "source": [
    "<h2>Train Test Split"
   ]
  },
  {
   "cell_type": "code",
   "execution_count": 146,
   "id": "c7366a65",
   "metadata": {},
   "outputs": [],
   "source": [
    "from sklearn.model_selection import train_test_split\n",
    "from sklearn.preprocessing import MultiLabelBinarizer"
   ]
  },
  {
   "cell_type": "code",
   "execution_count": 147,
   "id": "c5313808",
   "metadata": {},
   "outputs": [
    {
     "data": {
      "text/plain": [
       "array([[0, 1, 0, ..., 0, 0, 0],\n",
       "       [1, 1, 0, ..., 0, 0, 0],\n",
       "       [0, 1, 0, ..., 0, 0, 0],\n",
       "       ...,\n",
       "       [0, 1, 0, ..., 0, 0, 0],\n",
       "       [0, 0, 0, ..., 0, 0, 0],\n",
       "       [0, 1, 0, ..., 0, 0, 0]])"
      ]
     },
     "execution_count": 147,
     "metadata": {},
     "output_type": "execute_result"
    }
   ],
   "source": [
    "mlb = MultiLabelBinarizer()\n",
    "y_data = mlb.fit_transform(data['Comments'])\n",
    "y_data"
   ]
  },
  {
   "cell_type": "code",
   "execution_count": 148,
   "id": "b71f3f9a",
   "metadata": {},
   "outputs": [],
   "source": [
    "x_train, x_test, y_train, y_test = train_test_split(X,Y, test_size=0.2, random_state=32)"
   ]
  },
  {
   "cell_type": "code",
   "execution_count": 151,
   "id": "7f34fea9",
   "metadata": {},
   "outputs": [
    {
     "data": {
      "text/plain": [
       "(array(['\\n', ' ', ',', '.', 'B', 'L', 'N', 'U', 'a', 'c', 'd', 'e', 'f',\n",
       "        'g', 'h', 'i', 'l', 'm', 'n', 'o', 'p', 'q', 'r', 's', 't', 'u',\n",
       "        'w', 'y', '�'], dtype='<U1'),\n",
       " array([ 1, 18,  2,  1,  1,  1,  1,  1,  7,  1,  1, 11,  2,  2,  4,  3,  1,\n",
       "         3,  7,  8,  2,  1,  9,  6,  6,  1,  2,  1,  1], dtype=int64))"
      ]
     },
     "execution_count": 151,
     "metadata": {},
     "output_type": "execute_result"
    }
   ],
   "source": [
    "np.unique(y_test, return_counts=True)"
   ]
  },
  {
   "cell_type": "markdown",
   "id": "e4a52e3a",
   "metadata": {},
   "source": [
    "<h2>Model Building"
   ]
  },
  {
   "cell_type": "code",
   "execution_count": 152,
   "id": "d6bcd42a",
   "metadata": {},
   "outputs": [],
   "source": [
    "from sklearn.tree import DecisionTreeClassifier\n",
    "from sklearn.ensemble import AdaBoostClassifier\n",
    "from sklearn.ensemble import RandomForestClassifier\n",
    "from sklearn.svm import SVC\n",
    "from sklearn.neighbors import KNeighborsClassifier\n",
    "from sklearn.naive_bayes import GaussianNB"
   ]
  },
  {
   "cell_type": "code",
   "execution_count": 153,
   "id": "b0d88727",
   "metadata": {},
   "outputs": [
    {
     "ename": "ValueError",
     "evalue": "could not convert string to float: 'f'",
     "output_type": "error",
     "traceback": [
      "\u001b[1;31m---------------------------------------------------------------------------\u001b[0m",
      "\u001b[1;31mValueError\u001b[0m                                Traceback (most recent call last)",
      "\u001b[1;32m~\\AppData\\Local\\Temp\\ipykernel_15032\\1131231316.py\u001b[0m in \u001b[0;36m<module>\u001b[1;34m\u001b[0m\n\u001b[0;32m      1\u001b[0m \u001b[0mmodel\u001b[0m \u001b[1;33m=\u001b[0m \u001b[0mDecisionTreeClassifier\u001b[0m\u001b[1;33m(\u001b[0m\u001b[1;33m)\u001b[0m\u001b[1;33m\u001b[0m\u001b[1;33m\u001b[0m\u001b[0m\n\u001b[1;32m----> 2\u001b[1;33m \u001b[0mk1\u001b[0m\u001b[1;33m=\u001b[0m\u001b[0mmodel\u001b[0m\u001b[1;33m.\u001b[0m\u001b[0mfit\u001b[0m\u001b[1;33m(\u001b[0m\u001b[0mx_train\u001b[0m\u001b[1;33m,\u001b[0m \u001b[0my_train\u001b[0m\u001b[1;33m)\u001b[0m\u001b[1;33m\u001b[0m\u001b[1;33m\u001b[0m\u001b[0m\n\u001b[0m\u001b[0;32m      3\u001b[0m \u001b[0mk2\u001b[0m\u001b[1;33m=\u001b[0m\u001b[0mmodel\u001b[0m\u001b[1;33m.\u001b[0m\u001b[0mscore\u001b[0m\u001b[1;33m(\u001b[0m\u001b[0mx_test\u001b[0m\u001b[1;33m,\u001b[0m \u001b[0my_test\u001b[0m\u001b[1;33m)\u001b[0m\u001b[1;33m\u001b[0m\u001b[1;33m\u001b[0m\u001b[0m\n\u001b[0;32m      4\u001b[0m \u001b[0mprint\u001b[0m\u001b[1;33m(\u001b[0m\u001b[1;34m\"Training Accuracy :\"\u001b[0m\u001b[1;33m,\u001b[0m\u001b[0mk1\u001b[0m\u001b[1;33m)\u001b[0m\u001b[1;33m\u001b[0m\u001b[1;33m\u001b[0m\u001b[0m\n\u001b[0;32m      5\u001b[0m \u001b[0mprint\u001b[0m\u001b[1;33m(\u001b[0m\u001b[1;34m\"Testing Accuracy : \"\u001b[0m\u001b[1;33m,\u001b[0m\u001b[0mk2\u001b[0m\u001b[1;33m)\u001b[0m\u001b[1;33m\u001b[0m\u001b[1;33m\u001b[0m\u001b[0m\n",
      "\u001b[1;32m~\\anaconda3\\lib\\site-packages\\sklearn\\tree\\_classes.py\u001b[0m in \u001b[0;36mfit\u001b[1;34m(self, X, y, sample_weight, check_input, X_idx_sorted)\u001b[0m\n\u001b[0;32m    935\u001b[0m         \"\"\"\n\u001b[0;32m    936\u001b[0m \u001b[1;33m\u001b[0m\u001b[0m\n\u001b[1;32m--> 937\u001b[1;33m         super().fit(\n\u001b[0m\u001b[0;32m    938\u001b[0m             \u001b[0mX\u001b[0m\u001b[1;33m,\u001b[0m\u001b[1;33m\u001b[0m\u001b[1;33m\u001b[0m\u001b[0m\n\u001b[0;32m    939\u001b[0m             \u001b[0my\u001b[0m\u001b[1;33m,\u001b[0m\u001b[1;33m\u001b[0m\u001b[1;33m\u001b[0m\u001b[0m\n",
      "\u001b[1;32m~\\anaconda3\\lib\\site-packages\\sklearn\\tree\\_classes.py\u001b[0m in \u001b[0;36mfit\u001b[1;34m(self, X, y, sample_weight, check_input, X_idx_sorted)\u001b[0m\n\u001b[0;32m    163\u001b[0m             \u001b[0mcheck_X_params\u001b[0m \u001b[1;33m=\u001b[0m \u001b[0mdict\u001b[0m\u001b[1;33m(\u001b[0m\u001b[0mdtype\u001b[0m\u001b[1;33m=\u001b[0m\u001b[0mDTYPE\u001b[0m\u001b[1;33m,\u001b[0m \u001b[0maccept_sparse\u001b[0m\u001b[1;33m=\u001b[0m\u001b[1;34m\"csc\"\u001b[0m\u001b[1;33m)\u001b[0m\u001b[1;33m\u001b[0m\u001b[1;33m\u001b[0m\u001b[0m\n\u001b[0;32m    164\u001b[0m             \u001b[0mcheck_y_params\u001b[0m \u001b[1;33m=\u001b[0m \u001b[0mdict\u001b[0m\u001b[1;33m(\u001b[0m\u001b[0mensure_2d\u001b[0m\u001b[1;33m=\u001b[0m\u001b[1;32mFalse\u001b[0m\u001b[1;33m,\u001b[0m \u001b[0mdtype\u001b[0m\u001b[1;33m=\u001b[0m\u001b[1;32mNone\u001b[0m\u001b[1;33m)\u001b[0m\u001b[1;33m\u001b[0m\u001b[1;33m\u001b[0m\u001b[0m\n\u001b[1;32m--> 165\u001b[1;33m             X, y = self._validate_data(\n\u001b[0m\u001b[0;32m    166\u001b[0m                 \u001b[0mX\u001b[0m\u001b[1;33m,\u001b[0m \u001b[0my\u001b[0m\u001b[1;33m,\u001b[0m \u001b[0mvalidate_separately\u001b[0m\u001b[1;33m=\u001b[0m\u001b[1;33m(\u001b[0m\u001b[0mcheck_X_params\u001b[0m\u001b[1;33m,\u001b[0m \u001b[0mcheck_y_params\u001b[0m\u001b[1;33m)\u001b[0m\u001b[1;33m\u001b[0m\u001b[1;33m\u001b[0m\u001b[0m\n\u001b[0;32m    167\u001b[0m             )\n",
      "\u001b[1;32m~\\anaconda3\\lib\\site-packages\\sklearn\\base.py\u001b[0m in \u001b[0;36m_validate_data\u001b[1;34m(self, X, y, reset, validate_separately, **check_params)\u001b[0m\n\u001b[0;32m    576\u001b[0m                 \u001b[1;31m# :(\u001b[0m\u001b[1;33m\u001b[0m\u001b[1;33m\u001b[0m\u001b[0m\n\u001b[0;32m    577\u001b[0m                 \u001b[0mcheck_X_params\u001b[0m\u001b[1;33m,\u001b[0m \u001b[0mcheck_y_params\u001b[0m \u001b[1;33m=\u001b[0m \u001b[0mvalidate_separately\u001b[0m\u001b[1;33m\u001b[0m\u001b[1;33m\u001b[0m\u001b[0m\n\u001b[1;32m--> 578\u001b[1;33m                 \u001b[0mX\u001b[0m \u001b[1;33m=\u001b[0m \u001b[0mcheck_array\u001b[0m\u001b[1;33m(\u001b[0m\u001b[0mX\u001b[0m\u001b[1;33m,\u001b[0m \u001b[1;33m**\u001b[0m\u001b[0mcheck_X_params\u001b[0m\u001b[1;33m)\u001b[0m\u001b[1;33m\u001b[0m\u001b[1;33m\u001b[0m\u001b[0m\n\u001b[0m\u001b[0;32m    579\u001b[0m                 \u001b[0my\u001b[0m \u001b[1;33m=\u001b[0m \u001b[0mcheck_array\u001b[0m\u001b[1;33m(\u001b[0m\u001b[0my\u001b[0m\u001b[1;33m,\u001b[0m \u001b[1;33m**\u001b[0m\u001b[0mcheck_y_params\u001b[0m\u001b[1;33m)\u001b[0m\u001b[1;33m\u001b[0m\u001b[1;33m\u001b[0m\u001b[0m\n\u001b[0;32m    580\u001b[0m             \u001b[1;32melse\u001b[0m\u001b[1;33m:\u001b[0m\u001b[1;33m\u001b[0m\u001b[1;33m\u001b[0m\u001b[0m\n",
      "\u001b[1;32m~\\anaconda3\\lib\\site-packages\\sklearn\\utils\\validation.py\u001b[0m in \u001b[0;36mcheck_array\u001b[1;34m(array, accept_sparse, accept_large_sparse, dtype, order, copy, force_all_finite, ensure_2d, allow_nd, ensure_min_samples, ensure_min_features, estimator)\u001b[0m\n\u001b[0;32m    744\u001b[0m                     \u001b[0marray\u001b[0m \u001b[1;33m=\u001b[0m \u001b[0marray\u001b[0m\u001b[1;33m.\u001b[0m\u001b[0mastype\u001b[0m\u001b[1;33m(\u001b[0m\u001b[0mdtype\u001b[0m\u001b[1;33m,\u001b[0m \u001b[0mcasting\u001b[0m\u001b[1;33m=\u001b[0m\u001b[1;34m\"unsafe\"\u001b[0m\u001b[1;33m,\u001b[0m \u001b[0mcopy\u001b[0m\u001b[1;33m=\u001b[0m\u001b[1;32mFalse\u001b[0m\u001b[1;33m)\u001b[0m\u001b[1;33m\u001b[0m\u001b[1;33m\u001b[0m\u001b[0m\n\u001b[0;32m    745\u001b[0m                 \u001b[1;32melse\u001b[0m\u001b[1;33m:\u001b[0m\u001b[1;33m\u001b[0m\u001b[1;33m\u001b[0m\u001b[0m\n\u001b[1;32m--> 746\u001b[1;33m                     \u001b[0marray\u001b[0m \u001b[1;33m=\u001b[0m \u001b[0mnp\u001b[0m\u001b[1;33m.\u001b[0m\u001b[0masarray\u001b[0m\u001b[1;33m(\u001b[0m\u001b[0marray\u001b[0m\u001b[1;33m,\u001b[0m \u001b[0morder\u001b[0m\u001b[1;33m=\u001b[0m\u001b[0morder\u001b[0m\u001b[1;33m,\u001b[0m \u001b[0mdtype\u001b[0m\u001b[1;33m=\u001b[0m\u001b[0mdtype\u001b[0m\u001b[1;33m)\u001b[0m\u001b[1;33m\u001b[0m\u001b[1;33m\u001b[0m\u001b[0m\n\u001b[0m\u001b[0;32m    747\u001b[0m             \u001b[1;32mexcept\u001b[0m \u001b[0mComplexWarning\u001b[0m \u001b[1;32mas\u001b[0m \u001b[0mcomplex_warning\u001b[0m\u001b[1;33m:\u001b[0m\u001b[1;33m\u001b[0m\u001b[1;33m\u001b[0m\u001b[0m\n\u001b[0;32m    748\u001b[0m                 raise ValueError(\n",
      "\u001b[1;31mValueError\u001b[0m: could not convert string to float: 'f'"
     ]
    }
   ],
   "source": [
    "model = DecisionTreeClassifier()\n",
    "k1=model.fit(x_train, y_train)\n",
    "k2=model.score(x_test, y_test)\n",
    "print(\"Training Accuracy :\",k1)\n",
    "print(\"Testing Accuracy : \",k2)"
   ]
  },
  {
   "cell_type": "code",
   "execution_count": null,
   "id": "42fbca2a",
   "metadata": {},
   "outputs": [],
   "source": []
  }
 ],
 "metadata": {
  "kernelspec": {
   "display_name": "Python 3 (ipykernel)",
   "language": "python",
   "name": "python3"
  },
  "language_info": {
   "codemirror_mode": {
    "name": "ipython",
    "version": 3
   },
   "file_extension": ".py",
   "mimetype": "text/x-python",
   "name": "python",
   "nbconvert_exporter": "python",
   "pygments_lexer": "ipython3",
   "version": "3.9.13"
  }
 },
 "nbformat": 4,
 "nbformat_minor": 5
}
